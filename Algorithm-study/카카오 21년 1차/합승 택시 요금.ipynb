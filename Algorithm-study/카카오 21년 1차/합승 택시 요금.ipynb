{
 "cells": [
  {
   "cell_type": "code",
   "execution_count": 1,
   "metadata": {},
   "outputs": [
    {
     "name": "stdout",
     "output_type": "stream",
     "text": [
      "82\n"
     ]
    }
   ],
   "source": [
    "def solution(n, s, a, b, fares):\n",
    "    answer = 0\n",
    "    INF = n*100000+1\n",
    "    map = [[INF for i in range(n)] for j in range(n)]\n",
    "    for i in range(n):\n",
    "        map[i][i] = 0\n",
    "\n",
    "    for c, d, cost in fares:\n",
    "        map[c-1][d-1] = cost\n",
    "        map[d-1][c-1] = cost\n",
    "\n",
    "    for k in range(n):\n",
    "        for i in range(n):\n",
    "            for j in range(n):\n",
    "                map[i][j] = min(map[i][j], map[i][k] + map[k][j])\n",
    "\n",
    "    answer = min(map[s-1][k] + map[k][a-1] + map[k][b-1] for k in range(n))\n",
    "\n",
    "    return answer\n",
    "\n",
    "n = 6\n",
    "s = 4\n",
    "a = 6\n",
    "b = 2\n",
    "fares = [[4, 1, 10], [3, 5, 24], [5, 6, 2], [3, 1, 41], [5, 1, 24], [4, 6, 50], [2, 4, 66], [2, 3, 22], [1, 6, 25]]\t\n",
    "result = solution(n, s, a, b, fares)\n",
    "print(result)"
   ]
  }
 ],
 "metadata": {
  "kernelspec": {
   "display_name": "Python 3.9.2 64-bit",
   "language": "python",
   "name": "python3"
  },
  "language_info": {
   "codemirror_mode": {
    "name": "ipython",
    "version": 3
   },
   "file_extension": ".py",
   "mimetype": "text/x-python",
   "name": "python",
   "nbconvert_exporter": "python",
   "pygments_lexer": "ipython3",
   "version": "3.9.2"
  },
  "orig_nbformat": 4,
  "vscode": {
   "interpreter": {
    "hash": "9b3d85959e6c4b3d134916c41e259dea5bccfec32db02b044911dc7b04f0df25"
   }
  }
 },
 "nbformat": 4,
 "nbformat_minor": 2
}
