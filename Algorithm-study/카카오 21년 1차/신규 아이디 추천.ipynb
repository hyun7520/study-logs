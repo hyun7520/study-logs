{
 "cells": [
  {
   "cell_type": "code",
   "execution_count": null,
   "metadata": {},
   "outputs": [],
   "source": [
    "import sys\n",
    "import string\n",
    "\n",
    "def solution(new_id):\n",
    "    answer = ''\n",
    "\n",
    "    new_id = new_id.lower()\n",
    "\n",
    "    temp = []\n",
    "    arr = '0123456789._-'\n",
    "    for s in new_id:\n",
    "        if s in arr or s in string.ascii_lowercase:\n",
    "            temp.append(s)\n",
    "    new_id = ''.join(temp)\n",
    "\n",
    "    while '..' in new_id:\n",
    "        new_id.replace('..', '.')\n",
    "\n",
    "    if new_id and new_id[0] == '.':\n",
    "        new_id = new_id[1:]\n",
    "    if new_id and new_id[-1] == '.':\n",
    "        new_id = new_id[:-1]  \n",
    "\n",
    "    if len(new_id) == 0:\n",
    "        new_id = 'a'\n",
    "\n",
    "    if len(new_id) > 15:\n",
    "        new_id = new_id[:15]\n",
    "        while new_id[-1] == '.':\n",
    "            new_id = new_id[:-1]  \n",
    "\n",
    "    if new_id:\n",
    "        temp_str = new_id[-1]\n",
    "        length = 3 - len(new_id)\n",
    "        if length <= 2:\n",
    "            new_id = new_id + (temp_str * length)\n",
    "\n",
    "    answer = new_id\n",
    "\n",
    "    return answer"
   ]
  }
 ],
 "metadata": {
  "kernelspec": {
   "display_name": "Python 3.9.2 64-bit",
   "language": "python",
   "name": "python3"
  },
  "language_info": {
   "name": "python",
   "version": "3.9.2"
  },
  "orig_nbformat": 4,
  "vscode": {
   "interpreter": {
    "hash": "9b3d85959e6c4b3d134916c41e259dea5bccfec32db02b044911dc7b04f0df25"
   }
  }
 },
 "nbformat": 4,
 "nbformat_minor": 2
}
