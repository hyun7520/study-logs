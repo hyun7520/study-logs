{
 "cells": [
  {
   "cell_type": "code",
   "execution_count": 13,
   "metadata": {},
   "outputs": [
    {
     "name": "stdout",
     "output_type": "stream",
     "text": [
      "{'python-seniorchicken': [50, 150, 210], 'pythonbackendsenior-': [50], 'python---': [50, 150, 210], '--seniorchicken': [50, 150, 210], 'python-senior-': [50, 150, 210], '-backendsenior-': [50, 260], 'pythonbackend-chicken': [50], '---chicken': [50, 80, 150, 210], '-backendseniorchicken': [50], 'python--chicken': [50, 150, 210], '-backend-chicken': [50, 80], '--senior-': [50, 150, 210, 260], 'pythonbackend--': [50], '-backend--': [50, 80, 150, 260], 'pythonbackendseniorchicken': [50], '----': [50, 80, 150, 150, 210, 260], '-backendjunior-': [80, 150], '--juniorchicken': [80], 'java--chicken': [80], '--junior-': [80, 150], 'javabackend--': [80, 150], 'javabackendjuniorchicken': [80], 'javabackend-chicken': [80], 'java-juniorchicken': [80], 'java-junior-': [80, 150], '-backendjuniorchicken': [80], 'java---': [80, 150], 'javabackendjunior-': [80, 150], 'java-juniorpizza': [150], 'javabackendjuniorpizza': [150], 'java--pizza': [150], '-backend-pizza': [150, 260], '--juniorpizza': [150], '---pizza': [150, 260], 'javabackend-pizza': [150], '-backendjuniorpizza': [150], '-frontend--': [150, 210], 'pythonfrontendseniorchicken': [150, 210], '-frontendsenior-': [150, 210], 'pythonfrontend--': [150, 210], '-frontend-chicken': [150, 210], 'pythonfrontendsenior-': [150, 210], 'pythonfrontend-chicken': [150, 210], '-frontendseniorchicken': [150, 210], '--seniorpizza': [260], 'cpp-senior-': [260], 'cpp-seniorpizza': [260], 'cppbackendsenior-': [260], 'cpp---': [260], 'cppbackend-pizza': [260], 'cpp--pizza': [260], '-backendseniorpizza': [260], 'cppbackend--': [260], 'cppbackendseniorpizza': [260]}\n"
     ]
    }
   ],
   "source": [
    "import itertools\n",
    "\n",
    "info = [\"java backend junior pizza 150\",\"python frontend senior chicken 210\",\"python frontend senior chicken 150\",\"cpp backend senior pizza 260\",\"java backend junior chicken 80\",\"python backend senior chicken 50\"]\n",
    "\n",
    "for index, value in enumerate(info):\n",
    "        info[index] = list(value.split())\n",
    "        info[index][-1] = int(info[index][-1])\n",
    "\n",
    "info.sort(key=lambda x : x[4])\n",
    "arr = [0,1,2,3]\n",
    "\n",
    "# new_info[\"문자열값\"] = [오름차순 점수]\n",
    "# 사전에 모든 조합을 만들어버림\n",
    "new_info = dict()\n",
    "for person_info in info:\n",
    "    combi_arr = set()\n",
    "    combi_arr.add(''.join(person_info[:-1]))\n",
    "    score = person_info[-1]\n",
    "    for i in range(1,5):\n",
    "        for it in list(itertools.combinations(arr,i)):\n",
    "            tmp_info = person_info[:-1]\n",
    "            for idx in it:\n",
    "                tmp_info[idx] = '-'\n",
    "            key = ''.join(tmp_info)\n",
    "            combi_arr.add(key)\n",
    "    for key in combi_arr:\n",
    "        if key not in new_info:\n",
    "            new_info[key] = [score]\n",
    "        else : \n",
    "            new_info[key].append(score)\n",
    "print(new_info)\n",
    "\n"
   ]
  }
 ],
 "metadata": {
  "kernelspec": {
   "display_name": "Python 3.9.2 64-bit",
   "language": "python",
   "name": "python3"
  },
  "language_info": {
   "codemirror_mode": {
    "name": "ipython",
    "version": 3
   },
   "file_extension": ".py",
   "mimetype": "text/x-python",
   "name": "python",
   "nbconvert_exporter": "python",
   "pygments_lexer": "ipython3",
   "version": "3.9.2"
  },
  "orig_nbformat": 4,
  "vscode": {
   "interpreter": {
    "hash": "9b3d85959e6c4b3d134916c41e259dea5bccfec32db02b044911dc7b04f0df25"
   }
  }
 },
 "nbformat": 4,
 "nbformat_minor": 2
}
