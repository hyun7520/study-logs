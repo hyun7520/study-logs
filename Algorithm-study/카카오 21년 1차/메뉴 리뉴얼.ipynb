{
 "cells": [
  {
   "cell_type": "code",
   "execution_count": 7,
   "metadata": {},
   "outputs": [
    {
     "name": "stdout",
     "output_type": "stream",
     "text": [
      "{2: [(2, 'BF'), (3, 'CE'), (3, 'DE'), (3, 'CD'), (2, 'AE'), (2, 'CF'), (2, 'CG'), (4, 'AC'), (2, 'BC'), (2, 'AD'), (2, 'BG'), (2, 'FG')], 3: [(2, 'CFG'), (2, 'BCG'), (2, 'ACE'), (2, 'BCF'), (3, 'CDE'), (2, 'ADE'), (2, 'BFG'), (2, 'ACD')], 4: [(2, 'ACDE'), (2, 'BCFG')]}\n"
     ]
    }
   ],
   "source": [
    "import itertools\n",
    "from re import A\n",
    "\n",
    "def solution(orders, course):\n",
    "    answer = []\n",
    "    menu_dict = dict()\n",
    "    orders = list(map(set, orders))\n",
    "    course_combi = []\n",
    "    for i in course:\n",
    "        menu_dict[i] = []\n",
    "\n",
    "    for menu in orders:\n",
    "        size = len(menu)\n",
    "        for cnt in course:\n",
    "            if cnt < size:\n",
    "                temp_menu = list(map(''.join, list(itertools.combinations(sorted(menu), cnt))))\n",
    "                course_combi += temp_menu\n",
    "            elif cnt == size:\n",
    "                course_combi.append(''.join(sorted(menu)))\n",
    "\n",
    "    for item in set(course_combi):\n",
    "        cnt  = course_combi.count(item)\n",
    "        if cnt >= 2:\n",
    "            menu_dict[len(item)].append((cnt, item))\n",
    "\n",
    "    for i, c in list(menu_dict.items()):\n",
    "        max = 0\n",
    "        arr = []\n",
    "        for cnt, menu in c:\n",
    "            if max < cnt:\n",
    "                max = cnt\n",
    "                arr = [menu]\n",
    "            elif max == cnt:\n",
    "                arr.append(menu)\n",
    "        answer += arr\n",
    "    answer.sort()\n",
    "    \n",
    "    return answer\n",
    "\n",
    "orders = [\"ABCFG\", \"AC\", \"CDE\", \"ACDE\", \"BCFG\", \"ACDEH\"]\n",
    "course = [2,3,4]\n",
    "mnu = solution(orders, course)\n",
    "print(mnu)"
   ]
  }
 ],
 "metadata": {
  "kernelspec": {
   "display_name": "Python 3.9.2 64-bit",
   "language": "python",
   "name": "python3"
  },
  "language_info": {
   "codemirror_mode": {
    "name": "ipython",
    "version": 3
   },
   "file_extension": ".py",
   "mimetype": "text/x-python",
   "name": "python",
   "nbconvert_exporter": "python",
   "pygments_lexer": "ipython3",
   "version": "3.9.2"
  },
  "orig_nbformat": 4,
  "vscode": {
   "interpreter": {
    "hash": "9b3d85959e6c4b3d134916c41e259dea5bccfec32db02b044911dc7b04f0df25"
   }
  }
 },
 "nbformat": 4,
 "nbformat_minor": 2
}
