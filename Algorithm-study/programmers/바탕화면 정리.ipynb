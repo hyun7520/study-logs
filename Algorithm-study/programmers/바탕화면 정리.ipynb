{
 "cells": [
  {
   "cell_type": "code",
   "execution_count": 19,
   "metadata": {},
   "outputs": [],
   "source": [
    "wallpaper = [\".#...\", \"..#..\", \"...#.\"]"
   ]
  },
  {
   "cell_type": "code",
   "execution_count": 22,
   "metadata": {},
   "outputs": [],
   "source": [
    "def solution(wallpaper):\n",
    "    answer = []\n",
    "    lux, luy, rdx, rdy = 51, 51, 0, 0\n",
    "\n",
    "    for i, strings in enumerate(wallpaper):\n",
    "        for j, string in enumerate(strings):\n",
    "            if string == '#':\n",
    "                lux = min(lux, i)\n",
    "                luy = min(luy, j)\n",
    "                rdx = max(rdx, i+1)\n",
    "                rdy = max(rdy, j+1)\n",
    "\n",
    "    answer.extend([lux, luy, rdx, rdy])\n",
    "\n",
    "    return answer"
   ]
  },
  {
   "cell_type": "code",
   "execution_count": 23,
   "metadata": {},
   "outputs": [
    {
     "name": "stdout",
     "output_type": "stream",
     "text": [
      "[0, 1, 3, 4]\n"
     ]
    }
   ],
   "source": [
    "ans = solution(wallpaper)\n",
    "print(ans)"
   ]
  }
 ],
 "metadata": {
  "kernelspec": {
   "display_name": "Python 3",
   "language": "python",
   "name": "python3"
  },
  "language_info": {
   "codemirror_mode": {
    "name": "ipython",
    "version": 3
   },
   "file_extension": ".py",
   "mimetype": "text/x-python",
   "name": "python",
   "nbconvert_exporter": "python",
   "pygments_lexer": "ipython3",
   "version": "3.9.2"
  },
  "orig_nbformat": 4
 },
 "nbformat": 4,
 "nbformat_minor": 2
}
