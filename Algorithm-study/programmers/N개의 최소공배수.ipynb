{
 "cells": [
  {
   "cell_type": "code",
   "execution_count": null,
   "metadata": {},
   "outputs": [],
   "source": [
    "def solution(arr):\n",
    "    answer = 0\n",
    "\n",
    "    maxNum = max(arr)\n",
    "    times = 1\n",
    "    \n",
    "    while True:\n",
    "        tryNum = maxNum * times\n",
    "        ans = True\n",
    "        for num in arr:\n",
    "            if tryNum % num != 0:\n",
    "                ans = False\n",
    "                break\n",
    "        if ans:\n",
    "            return tryNum\n",
    "        times += 1"
   ]
  }
 ],
 "metadata": {
  "language_info": {
   "name": "python"
  },
  "orig_nbformat": 4
 },
 "nbformat": 4,
 "nbformat_minor": 2
}
