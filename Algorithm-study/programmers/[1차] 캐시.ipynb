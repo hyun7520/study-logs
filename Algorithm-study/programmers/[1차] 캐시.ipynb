{
 "cells": [
  {
   "cell_type": "code",
   "execution_count": 37,
   "metadata": {},
   "outputs": [],
   "source": [
    "def solution(cacheSize, cities):\n",
    "    answer = 0\n",
    "\n",
    "    if cacheSize == 0:\n",
    "        return len(cities) * 5\n",
    "    cache = []\n",
    "    time = 0\n",
    "\n",
    "    for city in cities:\n",
    "        city = city.lower()\n",
    "        # hit 구현\n",
    "        if city in cache:\n",
    "            cache.remove(city)\n",
    "            cache.append(city)\n",
    "            time += 1\n",
    "            continue\n",
    "        # miss 구현\n",
    "        if city not in cache and len(cache) < cacheSize:\n",
    "            cache.append(city)\n",
    "            time += 5\n",
    "            continue\n",
    "        if city not in cache and len(cache) >= cacheSize:\n",
    "            cache.pop(0)\n",
    "            cache.append(city)\n",
    "            time += 5\n",
    "            continue\n",
    "\n",
    "    answer = time\n",
    "\n",
    "    return answer"
   ]
  },
  {
   "cell_type": "code",
   "execution_count": 38,
   "metadata": {},
   "outputs": [
    {
     "data": {
      "text/plain": [
       "50"
      ]
     },
     "execution_count": 38,
     "metadata": {},
     "output_type": "execute_result"
    }
   ],
   "source": [
    "solution(3, [\"Jeju\", \"Pangyo\", \"Seoul\", \"NewYork\", \"LA\", \"Jeju\", \"Pangyo\", \"Seoul\", \"NewYork\", \"LA\"])"
   ]
  },
  {
   "cell_type": "code",
   "execution_count": 8,
   "metadata": {},
   "outputs": [
    {
     "data": {
      "text/plain": [
       "['jeju',\n",
       " 'pangyo',\n",
       " 'seoul',\n",
       " 'newyork',\n",
       " 'la',\n",
       " 'jeju',\n",
       " 'pangyo',\n",
       " 'seoul',\n",
       " 'newyork',\n",
       " 'la']"
      ]
     },
     "execution_count": 8,
     "metadata": {},
     "output_type": "execute_result"
    }
   ],
   "source": [
    "city = [\"Jeju\", \"Pangyo\", \"Seoul\", \"NewYork\", \"LA\", \"Jeju\", \"Pangyo\", \"Seoul\", \"NewYork\", \"LA\"]\n",
    "for i in range(len(city)):\n",
    "    city[i] = city[i].lower()\n",
    "\n",
    "city"
   ]
  }
 ],
 "metadata": {
  "kernelspec": {
   "display_name": "Python 3",
   "language": "python",
   "name": "python3"
  },
  "language_info": {
   "codemirror_mode": {
    "name": "ipython",
    "version": 3
   },
   "file_extension": ".py",
   "mimetype": "text/x-python",
   "name": "python",
   "nbconvert_exporter": "python",
   "pygments_lexer": "ipython3",
   "version": "3.9.2"
  },
  "orig_nbformat": 4
 },
 "nbformat": 4,
 "nbformat_minor": 2
}
