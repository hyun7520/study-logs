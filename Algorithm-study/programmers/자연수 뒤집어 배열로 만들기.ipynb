{
 "cells": [
  {
   "cell_type": "code",
   "execution_count": null,
   "metadata": {},
   "outputs": [],
   "source": [
    "def solution(n):\n",
    "    answer = []\n",
    "\n",
    "    string = str(n)\n",
    "\n",
    "    for i in reversed(range(len(string))):\n",
    "        answer.append(int(string[i]))\n",
    "\n",
    "    return answer"
   ]
  }
 ],
 "metadata": {
  "language_info": {
   "name": "python"
  },
  "orig_nbformat": 4
 },
 "nbformat": 4,
 "nbformat_minor": 2
}
