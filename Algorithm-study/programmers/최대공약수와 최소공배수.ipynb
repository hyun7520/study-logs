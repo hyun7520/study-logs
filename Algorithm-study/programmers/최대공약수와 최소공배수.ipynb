{
 "cells": [
  {
   "cell_type": "code",
   "execution_count": null,
   "metadata": {},
   "outputs": [],
   "source": [
    "def solution(n, m):\n",
    "    answer = []\n",
    "\n",
    "    for i in range(min(n, m), 0, -1):\n",
    "        if n % i == 0 and m % i == 0:\n",
    "            answer.append(i)\n",
    "            break\n",
    "    \n",
    "    for j in range(max(n, m), n*m+1):\n",
    "        if j % n == 0 and j % m == 0:\n",
    "            answer.append(j)\n",
    "            break\n",
    "\n",
    "    return answer"
   ]
  }
 ],
 "metadata": {
  "language_info": {
   "name": "python"
  },
  "orig_nbformat": 4
 },
 "nbformat": 4,
 "nbformat_minor": 2
}
