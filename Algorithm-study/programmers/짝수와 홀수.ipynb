{
 "cells": [
  {
   "cell_type": "code",
   "execution_count": null,
   "metadata": {},
   "outputs": [],
   "source": [
    "def solution(num):\n",
    "    answer = ''\n",
    "\n",
    "    if num % 2 == 0:\n",
    "        answer = 'Even'\n",
    "    else:\n",
    "        answer = 'Odd'\n",
    "    \n",
    "    return answer"
   ]
  }
 ],
 "metadata": {
  "language_info": {
   "name": "python"
  },
  "orig_nbformat": 4
 },
 "nbformat": 4,
 "nbformat_minor": 2
}
