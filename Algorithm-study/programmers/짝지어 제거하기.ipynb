{
 "cells": [
  {
   "cell_type": "code",
   "execution_count": 5,
   "metadata": {},
   "outputs": [],
   "source": [
    "def solution(s):\n",
    "    answer = -1\n",
    "\n",
    "    if len(s) == 3 or len(s) == 1:\n",
    "        return 0\n",
    "    elif len(s) == 2 and s[0] != s[1]:\n",
    "        return 0\n",
    "    elif len(s) == 0:\n",
    "        return 1\n",
    "    else:\n",
    "        for i in range(len(s) - 1):\n",
    "            if s[i] == s[i+1] and i+2 <= len(s) - 1:\n",
    "                s = s[:i] + s[:i+2]\n",
    "                if len(s) == 0:\n",
    "                    return 1\n",
    "                solution(s)\n",
    "                break\n",
    "    # [실행] 버튼을 누르면 출력 값을 볼 수 있습니다.\n",
    "    print('Hello Python')\n",
    "\n",
    "    return -1"
   ]
  },
  {
   "cell_type": "code",
   "execution_count": null,
   "metadata": {},
   "outputs": [],
   "source": [
    "def solution(s):\n",
    "    answer = -1\n",
    "\n",
    "    li = []\n",
    "\n",
    "    for i in s:\n",
    "        if not li:\n",
    "            li.append(i)\n",
    "        elif li[-1] == i:\n",
    "            li.pop()\n",
    "        else:\n",
    "            li.append(i)\n",
    "    \n",
    "    if not li:\n",
    "        return 1\n",
    "    else:\n",
    "        return 0\n",
    "\n",
    "    # [실행] 버튼을 누르면 출력 값을 볼 수 있습니다.\n",
    "    print('Hello Python')\n",
    "\n",
    "    return answer"
   ]
  },
  {
   "cell_type": "code",
   "execution_count": 6,
   "metadata": {},
   "outputs": [
    {
     "name": "stdout",
     "output_type": "stream",
     "text": [
      "Hello Python\n",
      "Hello Python\n",
      "Hello Python\n",
      "-1\n"
     ]
    }
   ],
   "source": [
    "print(solution('baabaa'))"
   ]
  },
  {
   "cell_type": "code",
   "execution_count": 11,
   "metadata": {},
   "outputs": [
    {
     "name": "stdout",
     "output_type": "stream",
     "text": [
      "6\n"
     ]
    },
    {
     "data": {
      "text/plain": [
       "'bbaa'"
      ]
     },
     "execution_count": 11,
     "metadata": {},
     "output_type": "execute_result"
    }
   ],
   "source": [
    "s = 'baabaa'\n",
    "print(len(s))\n",
    "s = s[:1] + s[:3]\n",
    "s"
   ]
  }
 ],
 "metadata": {
  "kernelspec": {
   "display_name": "Python 3",
   "language": "python",
   "name": "python3"
  },
  "language_info": {
   "codemirror_mode": {
    "name": "ipython",
    "version": 3
   },
   "file_extension": ".py",
   "mimetype": "text/x-python",
   "name": "python",
   "nbconvert_exporter": "python",
   "pygments_lexer": "ipython3",
   "version": "3.9.2"
  },
  "orig_nbformat": 4
 },
 "nbformat": 4,
 "nbformat_minor": 2
}
