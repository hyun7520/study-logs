{
 "cells": [
  {
   "cell_type": "code",
   "execution_count": 38,
   "metadata": {},
   "outputs": [],
   "source": [
    "def check(moved):\n",
    "\n",
    "    queue = []\n",
    "\n",
    "    if moved[0] == ')' or moved[0] == ']' or moved[0] == '}':\n",
    "        return False\n",
    "\n",
    "    for bracket in moved:\n",
    "        if bracket == '[' or bracket == '(' or bracket == '{':\n",
    "            queue.append(bracket)\n",
    "\n",
    "        if bracket == ')' and (not queue or queue[-1] != '('):\n",
    "            return False\n",
    "        elif bracket == ')' and queue[-1] == '(' :\n",
    "            queue.pop()\n",
    "        if bracket == ']' and (not queue or queue[-1] != '['):\n",
    "            return False\n",
    "        elif bracket == ']' and queue[-1] == '[':\n",
    "            queue.pop()\n",
    "        if bracket == '}' and (not queue or queue[-1] != '{'):\n",
    "            return False\n",
    "        elif bracket == '}' and queue[-1] == '{':\n",
    "            queue.pop()\n",
    "\n",
    "    if not queue:\n",
    "        return True\n",
    "\n",
    "    return False\n",
    "\n",
    "def solution(s):\n",
    "    answer = 0\n",
    "\n",
    "    size = len(s)\n",
    "    listS = list(s)\n",
    "\n",
    "    if check(listS):\n",
    "        answer += 1\n",
    "\n",
    "    for i in range(size - 1):\n",
    "        temp = listS[0]\n",
    "        for i in range(size - 1):\n",
    "            listS[i] = listS[i+1]\n",
    "        listS[-1] = temp\n",
    "        if check(listS):\n",
    "            answer += 1\n",
    "            print(answer)\n",
    "\n",
    "    return answer"
   ]
  },
  {
   "cell_type": "code",
   "execution_count": 39,
   "metadata": {},
   "outputs": [
    {
     "name": "stdout",
     "output_type": "stream",
     "text": [
      "['(', ')', '[', '{', '}', ']']\n",
      "1\n",
      "['[', '{', '}', ']', '(', ')']\n",
      "2\n",
      "['{', '}', ']', '(', ')', '[']\n"
     ]
    },
    {
     "data": {
      "text/plain": [
       "2"
      ]
     },
     "execution_count": 39,
     "metadata": {},
     "output_type": "execute_result"
    }
   ],
   "source": [
    "solution(\"}]()[{\")"
   ]
  },
  {
   "cell_type": "code",
   "execution_count": 4,
   "metadata": {},
   "outputs": [
    {
     "data": {
      "text/plain": [
       "[']', '(', ')', '{', '}', '[']"
      ]
     },
     "execution_count": 4,
     "metadata": {},
     "output_type": "execute_result"
    }
   ],
   "source": [
    "s = \"[](){}\"\n",
    "tmpS = list(s)\n",
    "size = len(s)\n",
    "\n",
    "# for i in range(size):\n",
    "temp = tmpS[0]\n",
    "for i in range(size - 1):\n",
    "    tmpS[i] = tmpS[i+1]\n",
    "tmpS[-1] = temp\n",
    "\n",
    "tmpS"
   ]
  }
 ],
 "metadata": {
  "kernelspec": {
   "display_name": "Python 3",
   "language": "python",
   "name": "python3"
  },
  "language_info": {
   "codemirror_mode": {
    "name": "ipython",
    "version": 3
   },
   "file_extension": ".py",
   "mimetype": "text/x-python",
   "name": "python",
   "nbconvert_exporter": "python",
   "pygments_lexer": "ipython3",
   "version": "3.9.2"
  },
  "orig_nbformat": 4
 },
 "nbformat": 4,
 "nbformat_minor": 2
}
