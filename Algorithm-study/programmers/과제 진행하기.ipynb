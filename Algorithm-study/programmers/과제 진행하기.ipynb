{
 "cells": [
  {
   "cell_type": "code",
   "execution_count": null,
   "metadata": {},
   "outputs": [],
   "source": [
    "def solution(plans):\n",
    "    answer = []\n",
    "    paused = []  \n",
    "    plans.sort(key=lambda x: x[1])\n",
    "\n",
    "    for name, start, playtime in plans:  \n",
    "        if len(plans) == 1 and not paused:\n",
    "            answer.append(name)\n",
    "            break\n",
    "        \n",
    "        plans.pop(0)\n",
    "        temp = start.split(\":\")\n",
    "        prevHours = int(temp[0]) * 60 + int(temp[1])\n",
    "        nextTask = plans[0]\n",
    "        nextTemp = nextTask[1].split(\":\")\n",
    "        nextHours = int(nextTemp[0]) * 60 + int(nextTemp[1])\n",
    "        if prevHours + int(playtime) > nextHours:\n",
    "            paused.extend([name, prevHours - nextHours])\n",
    "        if prevHours + int(playtime) < nextHours:\n",
    "            answer.append(name)\n",
    "            if paused:\n",
    "                paused.pop(0)\n",
    "                if prevHours + int(playtime) +\n",
    "\n",
    "        if prevHours\n",
    "    \n",
    "    return answer"
   ]
  },
  {
   "cell_type": "code",
   "execution_count": 17,
   "metadata": {},
   "outputs": [],
   "source": [
    "plans = [[\"korean\", \"11:40\", \"30\"], [\"english\", \"12:10\", \"20\"], [\"math\", \"12:30\", \"40\"]]\n",
    "\n",
    "# print(solution(plans))"
   ]
  },
  {
   "cell_type": "code",
   "execution_count": 19,
   "metadata": {},
   "outputs": [
    {
     "name": "stdout",
     "output_type": "stream",
     "text": [
      "11\n",
      "12\n",
      "12\n"
     ]
    }
   ],
   "source": [
    "for name, start, playtime in plans:\n",
    "    print(int(start.split(\":\")[0]))"
   ]
  }
 ],
 "metadata": {
  "kernelspec": {
   "display_name": "Python 3",
   "language": "python",
   "name": "python3"
  },
  "language_info": {
   "codemirror_mode": {
    "name": "ipython",
    "version": 3
   },
   "file_extension": ".py",
   "mimetype": "text/x-python",
   "name": "python",
   "nbconvert_exporter": "python",
   "pygments_lexer": "ipython3",
   "version": "3.9.2"
  },
  "orig_nbformat": 4
 },
 "nbformat": 4,
 "nbformat_minor": 2
}
