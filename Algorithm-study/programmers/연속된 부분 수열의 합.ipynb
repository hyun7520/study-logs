{
 "cells": [
  {
   "cell_type": "code",
   "execution_count": 168,
   "metadata": {},
   "outputs": [],
   "source": [
    "# 시간 초과\n",
    "def solution(sequence, k):\n",
    "    answer = []\n",
    "\n",
    "    seqLen = len(sequence)\n",
    "    sum = 0\n",
    "    start = 0\n",
    "    end = 0\n",
    "    temp = []\n",
    "\n",
    "    for start in range(seqLen):\n",
    "        sum = sequence[start]\n",
    "        end = start\n",
    "        if sum == k:\n",
    "            temp.append([start,start])\n",
    "            break\n",
    "        while end + 1 < seqLen:\n",
    "            end += 1\n",
    "            sum += sequence[end]\n",
    "            if sum > k:\n",
    "                break\n",
    "            if sum == k:\n",
    "                temp[0][0] = start\n",
    "                temp[0][1] = end\n",
    "                break\n",
    "    \n",
    "    temp.sort(key=lambda x: (x[1]-x[0], x[0]))            \n",
    "    answer = temp[0]\n",
    "\n",
    "    return answer"
   ]
  },
  {
   "cell_type": "code",
   "execution_count": 86,
   "metadata": {},
   "outputs": [],
   "source": [
    "# 시간 초과\n",
    "def solution(sequence, k):\n",
    "    answer = []\n",
    "\n",
    "    sum = 0\n",
    "    endIdx = 0\n",
    "\n",
    "    for startIdx in range(len(sequence)):\n",
    "        sum = sequence[startIdx]\n",
    "        endIdx = startIdx + 1\n",
    "        if sum == k:\n",
    "            answer = [startIdx, startIdx]\n",
    "            break\n",
    "        if endIdx >= len(sequence):\n",
    "            break\n",
    "        else:\n",
    "            while endIdx < len(sequence):\n",
    "                sum += sequence[endIdx]\n",
    "                if not answer and sum == k:\n",
    "                    answer = [startIdx, endIdx]\n",
    "                    break\n",
    "                elif answer and sum == k and (answer[1] - answer[0]) == endIdx - startIdx:\n",
    "                    break\n",
    "                elif answer and sum == k and (answer[1] - answer[0]) > endIdx - startIdx:\n",
    "                    answer = [startIdx, endIdx]\n",
    "                    break\n",
    "                endIdx += 1  \n",
    "\n",
    "    return answer"
   ]
  },
  {
   "cell_type": "code",
   "execution_count": 87,
   "metadata": {},
   "outputs": [
    {
     "name": "stdout",
     "output_type": "stream",
     "text": [
      "[0, 2]\n"
     ]
    }
   ],
   "source": [
    "seq = [2, 2, 2, 2, 2]\n",
    "k = 6\n",
    "\n",
    "print(solution(seq, k))"
   ]
  }
 ],
 "metadata": {
  "kernelspec": {
   "display_name": "Python 3",
   "language": "python",
   "name": "python3"
  },
  "language_info": {
   "codemirror_mode": {
    "name": "ipython",
    "version": 3
   },
   "file_extension": ".py",
   "mimetype": "text/x-python",
   "name": "python",
   "nbconvert_exporter": "python",
   "pygments_lexer": "ipython3",
   "version": "3.9.2"
  },
  "orig_nbformat": 4
 },
 "nbformat": 4,
 "nbformat_minor": 2
}
