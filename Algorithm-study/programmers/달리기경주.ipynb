{
 "cells": [
  {
   "cell_type": "code",
   "execution_count": 1,
   "metadata": {},
   "outputs": [],
   "source": [
    "players = [\"mumu\", \"soe\", \"poe\", \"kai\", \"mine\"]\n",
    "callings = [\"kai\", \"kai\", \"mine\", \"mine\"]"
   ]
  },
  {
   "cell_type": "code",
   "execution_count": 2,
   "metadata": {},
   "outputs": [],
   "source": [
    "def solution(players, callings):\n",
    "    answer = []\n",
    "    player_dict = {player: i for i, player in enumerate(players)}\n",
    "    rank_dict = {i: player for i, player in enumerate(players)}\n",
    "\n",
    "    for call in callings:\n",
    "        cur_runner_rank = player_dict[call]\n",
    "        change_runner_rank = cur_runner_rank - 1\n",
    "        change_runner = rank_dict[change_runner_rank]\n",
    "\n",
    "        rank_dict[cur_runner_rank] = change_runner\n",
    "        rank_dict[change_runner_rank] = call\n",
    "\n",
    "        player_dict[call] = change_runner_rank\n",
    "        player_dict[change_runner] = cur_runner_rank        \n",
    "\n",
    "    answer = list(rank_dict.values())\n",
    "    return answer"
   ]
  },
  {
   "cell_type": "code",
   "execution_count": 3,
   "metadata": {},
   "outputs": [
    {
     "ename": "KeyError",
     "evalue": "2",
     "output_type": "error",
     "traceback": [
      "\u001b[1;31m---------------------------------------------------------------------------\u001b[0m",
      "\u001b[1;31mKeyError\u001b[0m                                  Traceback (most recent call last)",
      "\u001b[1;32mc:\\Users\\sangh\\OneDrive\\바탕 화면\\WEB-Demo\\Algorithm-study\\programmers\\달리기경주.ipynb Cell 3\u001b[0m in \u001b[0;36m<cell line: 1>\u001b[1;34m()\u001b[0m\n\u001b[1;32m----> <a href='vscode-notebook-cell:/c%3A/Users/sangh/OneDrive/%EB%B0%94%ED%83%95%20%ED%99%94%EB%A9%B4/WEB-Demo/Algorithm-study/programmers/%EB%8B%AC%EB%A6%AC%EA%B8%B0%EA%B2%BD%EC%A3%BC.ipynb#W2sZmlsZQ%3D%3D?line=0'>1</a>\u001b[0m p_idx_dict, idx_p_dict \u001b[39m=\u001b[39m solution(players, callings)\n\u001b[0;32m      <a href='vscode-notebook-cell:/c%3A/Users/sangh/OneDrive/%EB%B0%94%ED%83%95%20%ED%99%94%EB%A9%B4/WEB-Demo/Algorithm-study/programmers/%EB%8B%AC%EB%A6%AC%EA%B8%B0%EA%B2%BD%EC%A3%BC.ipynb#W2sZmlsZQ%3D%3D?line=1'>2</a>\u001b[0m \u001b[39mprint\u001b[39m(p_idx_dict, \u001b[39m\"\u001b[39m\u001b[39m\\n\u001b[39;00m\u001b[39m\"\u001b[39m, idx_p_dict)\n",
      "\u001b[1;32mc:\\Users\\sangh\\OneDrive\\바탕 화면\\WEB-Demo\\Algorithm-study\\programmers\\달리기경주.ipynb Cell 3\u001b[0m in \u001b[0;36msolution\u001b[1;34m(players, callings)\u001b[0m\n\u001b[0;32m      <a href='vscode-notebook-cell:/c%3A/Users/sangh/OneDrive/%EB%B0%94%ED%83%95%20%ED%99%94%EB%A9%B4/WEB-Demo/Algorithm-study/programmers/%EB%8B%AC%EB%A6%AC%EA%B8%B0%EA%B2%BD%EC%A3%BC.ipynb#W2sZmlsZQ%3D%3D?line=6'>7</a>\u001b[0m cur_runner_rank \u001b[39m=\u001b[39m player_dict[call]\n\u001b[0;32m      <a href='vscode-notebook-cell:/c%3A/Users/sangh/OneDrive/%EB%B0%94%ED%83%95%20%ED%99%94%EB%A9%B4/WEB-Demo/Algorithm-study/programmers/%EB%8B%AC%EB%A6%AC%EA%B8%B0%EA%B2%BD%EC%A3%BC.ipynb#W2sZmlsZQ%3D%3D?line=7'>8</a>\u001b[0m change_runner_rank \u001b[39m=\u001b[39m cur_runner_rank \u001b[39m-\u001b[39m \u001b[39m1\u001b[39m\n\u001b[1;32m----> <a href='vscode-notebook-cell:/c%3A/Users/sangh/OneDrive/%EB%B0%94%ED%83%95%20%ED%99%94%EB%A9%B4/WEB-Demo/Algorithm-study/programmers/%EB%8B%AC%EB%A6%AC%EA%B8%B0%EA%B2%BD%EC%A3%BC.ipynb#W2sZmlsZQ%3D%3D?line=8'>9</a>\u001b[0m change_runner \u001b[39m=\u001b[39m player_dict[change_runner_rank]\n\u001b[0;32m     <a href='vscode-notebook-cell:/c%3A/Users/sangh/OneDrive/%EB%B0%94%ED%83%95%20%ED%99%94%EB%A9%B4/WEB-Demo/Algorithm-study/programmers/%EB%8B%AC%EB%A6%AC%EA%B8%B0%EA%B2%BD%EC%A3%BC.ipynb#W2sZmlsZQ%3D%3D?line=10'>11</a>\u001b[0m rank_dict[cur_runner_rank] \u001b[39m=\u001b[39m change_runner\n\u001b[0;32m     <a href='vscode-notebook-cell:/c%3A/Users/sangh/OneDrive/%EB%B0%94%ED%83%95%20%ED%99%94%EB%A9%B4/WEB-Demo/Algorithm-study/programmers/%EB%8B%AC%EB%A6%AC%EA%B8%B0%EA%B2%BD%EC%A3%BC.ipynb#W2sZmlsZQ%3D%3D?line=11'>12</a>\u001b[0m rank_dict[change_runner_rank] \u001b[39m=\u001b[39m cur_runner_rank\n",
      "\u001b[1;31mKeyError\u001b[0m: 2"
     ]
    }
   ],
   "source": [
    "p_idx_dict, idx_p_dict = solution(players, callings)\n",
    "print(p_idx_dict, \"\\n\", idx_p_dict)"
   ]
  }
 ],
 "metadata": {
  "kernelspec": {
   "display_name": "Python 3",
   "language": "python",
   "name": "python3"
  },
  "language_info": {
   "codemirror_mode": {
    "name": "ipython",
    "version": 3
   },
   "file_extension": ".py",
   "mimetype": "text/x-python",
   "name": "python",
   "nbconvert_exporter": "python",
   "pygments_lexer": "ipython3",
   "version": "3.9.2"
  },
  "orig_nbformat": 4
 },
 "nbformat": 4,
 "nbformat_minor": 2
}
