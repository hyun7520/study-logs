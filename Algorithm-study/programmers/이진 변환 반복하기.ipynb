{
 "cells": [
  {
   "cell_type": "code",
   "execution_count": 20,
   "metadata": {},
   "outputs": [],
   "source": [
    "def getBin(length, temp):\n",
    "\n",
    "    a = length // 2\n",
    "    b = length % 2\n",
    "    temp.append(b)\n",
    "    if a == 0:\n",
    "        return temp\n",
    "    else:\n",
    "        getBin(a, temp)\n",
    "    return temp\n",
    "\n",
    "def solution(s):\n",
    "    answer = []\n",
    "\n",
    "    iter = 0\n",
    "    zeroCnt = 0\n",
    "\n",
    "    while s != \"1\":\n",
    "\n",
    "        for i in s:\n",
    "            if i == '0':\n",
    "                zeroCnt += 1\n",
    "        \n",
    "        s = s.split(\"0\")\n",
    "        s = \"\".join(s)\n",
    "\n",
    "        length = len(s)\n",
    "        temp = []\n",
    "\n",
    "        s = getBin(length, temp)\n",
    "        s.sort(reverse=True)\n",
    "        s = [str(x) for x in s]\n",
    "        s = \"\".join(s)\n",
    "        iter += 1\n",
    "\n",
    "    answer.extend([iter, zeroCnt])\n",
    "    return answer"
   ]
  },
  {
   "cell_type": "code",
   "execution_count": 21,
   "metadata": {},
   "outputs": [
    {
     "name": "stdout",
     "output_type": "stream",
     "text": [
      "110\n",
      "10\n",
      "1\n",
      "[3, 8]\n"
     ]
    }
   ],
   "source": [
    "s = \"110010101001\"\n",
    "print(solution(s))"
   ]
  },
  {
   "cell_type": "code",
   "execution_count": 28,
   "metadata": {},
   "outputs": [
    {
     "name": "stdout",
     "output_type": "stream",
     "text": [
      "0!\n",
      "0!\n",
      "0!\n",
      "0!\n",
      "0!\n",
      "0!\n"
     ]
    }
   ],
   "source": [
    "s = \"110010101001\"\n",
    "for i in s:\n",
    "    if i == \"0\":\n",
    "        print(\"0!\")"
   ]
  }
 ],
 "metadata": {
  "kernelspec": {
   "display_name": "Python 3",
   "language": "python",
   "name": "python3"
  },
  "language_info": {
   "codemirror_mode": {
    "name": "ipython",
    "version": 3
   },
   "file_extension": ".py",
   "mimetype": "text/x-python",
   "name": "python",
   "nbconvert_exporter": "python",
   "pygments_lexer": "ipython3",
   "version": "3.9.2"
  },
  "orig_nbformat": 4
 },
 "nbformat": 4,
 "nbformat_minor": 2
}
