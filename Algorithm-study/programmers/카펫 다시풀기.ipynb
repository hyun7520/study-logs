{
 "cells": [
  {
   "cell_type": "code",
   "execution_count": 11,
   "metadata": {},
   "outputs": [],
   "source": [
    "def solution(brown, yellow):\n",
    "    answer = []\n",
    "\n",
    "    # width >= height\n",
    "    # brown = 2(H + W) - 4\n",
    "    # yellow = H -2 * W -2\n",
    "    # brown + yellow = H*W\n",
    "\n",
    "    cellCnt = brown + yellow\n",
    "\n",
    "    for w in range(1, cellCnt + 1):\n",
    "        if cellCnt % w == 0:\n",
    "            h = int(cellCnt / w)\n",
    "            if w >= h and 2*(h+w) - 4 == brown:\n",
    "                return [w, h]\n",
    "\n",
    "    return answer"
   ]
  },
  {
   "cell_type": "code",
   "execution_count": 12,
   "metadata": {},
   "outputs": [
    {
     "name": "stdout",
     "output_type": "stream",
     "text": [
      "[4, 3]\n"
     ]
    }
   ],
   "source": [
    "brown = 10\n",
    "yellow = 2\n",
    "\n",
    "print(solution(brown, yellow))"
   ]
  }
 ],
 "metadata": {
  "kernelspec": {
   "display_name": "Python 3",
   "language": "python",
   "name": "python3"
  },
  "language_info": {
   "codemirror_mode": {
    "name": "ipython",
    "version": 3
   },
   "file_extension": ".py",
   "mimetype": "text/x-python",
   "name": "python",
   "nbconvert_exporter": "python",
   "pygments_lexer": "ipython3",
   "version": "3.9.2"
  },
  "orig_nbformat": 4
 },
 "nbformat": 4,
 "nbformat_minor": 2
}
