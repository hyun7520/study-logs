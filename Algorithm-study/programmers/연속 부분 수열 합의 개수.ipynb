{
 "cells": [
  {
   "cell_type": "code",
   "execution_count": null,
   "metadata": {},
   "outputs": [],
   "source": [
    "def solution(elements):\n",
    "    answer = 0\n",
    "    length = len(elements)\n",
    "    elements = elements*2\n",
    "    check = set()\n",
    "\n",
    "    for i in range(1, length+1):\n",
    "        for j in range(0, length):\n",
    "            temp = sum(elements[j: j+i])\n",
    "            check.add(temp)\n",
    "    answer = len(check)\n",
    "\n",
    "    return answer"
   ]
  },
  {
   "cell_type": "code",
   "execution_count": 2,
   "metadata": {},
   "outputs": [
    {
     "data": {
      "text/plain": [
       "[7, 9, 1, 1, 4, 7, 9, 1, 1, 4]"
      ]
     },
     "execution_count": 2,
     "metadata": {},
     "output_type": "execute_result"
    }
   ],
   "source": [
    "elements = [7,9,1,1,4]\n",
    "element = elements*2\n",
    "element"
   ]
  }
 ],
 "metadata": {
  "kernelspec": {
   "display_name": "Python 3",
   "language": "python",
   "name": "python3"
  },
  "language_info": {
   "codemirror_mode": {
    "name": "ipython",
    "version": 3
   },
   "file_extension": ".py",
   "mimetype": "text/x-python",
   "name": "python",
   "nbconvert_exporter": "python",
   "pygments_lexer": "ipython3",
   "version": "3.9.2"
  },
  "orig_nbformat": 4
 },
 "nbformat": 4,
 "nbformat_minor": 2
}
