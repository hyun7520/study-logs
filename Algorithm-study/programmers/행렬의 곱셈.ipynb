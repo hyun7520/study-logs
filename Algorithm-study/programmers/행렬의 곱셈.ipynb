{
 "cells": [
  {
   "cell_type": "code",
   "execution_count": 8,
   "metadata": {},
   "outputs": [],
   "source": [
    "def solution(arr1, arr2):\n",
    "    answer = [([0] for row in range(len(arr2[0]))) for col in range(len(arr1))]\n",
    "\n",
    "    for x in range(len(arr1)):\n",
    "        for y in range(len(arr2[0])):\n",
    "            for idx in range(len(arr1[0])):\n",
    "                answer[x][y] = arr1[x][idx] * arr2[idx][y]\n",
    "\n",
    "    return answer"
   ]
  },
  {
   "cell_type": "code",
   "execution_count": null,
   "metadata": {},
   "outputs": [],
   "source": [
    "arr1 = [[1, 4], [3, 2], [4, 1]]\n",
    "arr2 = [[3, 3], [3, 3]]\n",
    "print(solution(arr1, arr2))"
   ]
  },
  {
   "cell_type": "code",
   "execution_count": null,
   "metadata": {},
   "outputs": [],
   "source": [
    "def solution(arr1, arr2):\n",
    "    answer = [[0]*len(arr2[0]) for _ in range(len(arr1))]\n",
    "    for i in range(len(arr1)): \n",
    "        lists = []\n",
    "        for j in range(len(arr2[0])): \n",
    "            for k in range(len(arr1[0])): \n",
    "                answer[i][j] += arr1[i][k] * arr2[k][j]\n",
    "    return answer"
   ]
  }
 ],
 "metadata": {
  "kernelspec": {
   "display_name": "Python 3",
   "language": "python",
   "name": "python3"
  },
  "language_info": {
   "codemirror_mode": {
    "name": "ipython",
    "version": 3
   },
   "file_extension": ".py",
   "mimetype": "text/x-python",
   "name": "python",
   "nbconvert_exporter": "python",
   "pygments_lexer": "ipython3",
   "version": "3.9.2"
  },
  "orig_nbformat": 4
 },
 "nbformat": 4,
 "nbformat_minor": 2
}
