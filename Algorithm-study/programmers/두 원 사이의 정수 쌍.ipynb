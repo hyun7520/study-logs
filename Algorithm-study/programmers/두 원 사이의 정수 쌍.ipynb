{
 "cells": [
  {
   "cell_type": "code",
   "execution_count": null,
   "metadata": {},
   "outputs": [],
   "source": [
    "def solution(r1, r2):\n",
    "    answer = 0\n",
    "    \n",
    "\n",
    "    for x in range(1, r2+1):\n",
    "        y = r2\n",
    "        while y >= 0 :\n",
    "            if x**2 + y**2 <= r2**2 and x**2 + y**2 >= r1**2:\n",
    "                answer += 1\n",
    "            y -= 1\n",
    "    \n",
    "    answer *= 4\n",
    "    return answer"
   ]
  },
  {
   "cell_type": "code",
   "execution_count": 31,
   "metadata": {},
   "outputs": [
    {
     "name": "stdout",
     "output_type": "stream",
     "text": [
      "1.7320508075688772   2.8284271247461903\n",
      "2   2 \n",
      "\n",
      "0.0   2.23606797749979\n",
      "0   2 \n",
      "\n",
      "0   0.0\n",
      "0   0 \n",
      "\n",
      "20\n"
     ]
    }
   ],
   "source": [
    "import math\n",
    "\n",
    "answer = 0\n",
    "r1 = 2\n",
    "r2 = 3\n",
    "\n",
    "# x제곱 + y제곱 (원점까지의 거리) <= r2 (가장 큰 반지름) \n",
    "# y좌표를 그대로 두고 x좌표만을 1부터 시작해 늘려가며 1사분면의 점을 모두 구함\n",
    "# 마지막으로 4를 곱해 정답을 구함\n",
    "# r2에서 r1을 빼면 그 안에 있는 점의 개수를 구할 수 있음.\n",
    "# r2 와 r1은 y좌표 이므로 위 공식에서 r2 - x, r1 - x로 이 값을 유도할 수 있음\n",
    "# 두 값이 모두 0이 되었을 경우 가장 큰 원의 점이 포함될 수 있으나 이를 빼게 됨\n",
    "# 따라서 올림 버림을 하고 +1을 하여 이를 보완해준다.\n",
    "\n",
    "\n",
    "for x in range(1, r2+1):\n",
    "    maxr2 = math.sqrt(r2**2 - x**2)\n",
    "    if r1 < x:\n",
    "        maxr1 = 0\n",
    "    else: \n",
    "        maxr1 = math.sqrt(r1**2 - x**2)\n",
    "    print(maxr1 , ' ' , maxr2)\n",
    "    answer += math.floor(maxr2) - math.ceil(maxr1) + 1\n",
    "    print(math.ceil(maxr1) , ' ' , math.floor(maxr2), '\\n')\n",
    "\n",
    "print(answer*4)"
   ]
  }
 ],
 "metadata": {
  "kernelspec": {
   "display_name": "Python 3",
   "language": "python",
   "name": "python3"
  },
  "language_info": {
   "codemirror_mode": {
    "name": "ipython",
    "version": 3
   },
   "file_extension": ".py",
   "mimetype": "text/x-python",
   "name": "python",
   "nbconvert_exporter": "python",
   "pygments_lexer": "ipython3",
   "version": "3.9.2"
  },
  "orig_nbformat": 4
 },
 "nbformat": 4,
 "nbformat_minor": 2
}
