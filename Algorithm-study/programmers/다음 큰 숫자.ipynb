{
 "cells": [
  {
   "cell_type": "code",
   "execution_count": 16,
   "metadata": {},
   "outputs": [],
   "source": [
    "def binNum(n, list):\n",
    "\n",
    "    a = n // 2\n",
    "    b = n % 2\n",
    "    list.append(b)\n",
    "    if a == 0:\n",
    "        return list\n",
    "    else:\n",
    "        binNum(a, list)\n",
    "    \n",
    "    return list\n",
    "        \n",
    "def solution(n):\n",
    "    answer = n\n",
    "    list = []\n",
    "    \n",
    "    list = binNum(n, list)\n",
    "    cnt = list.count(1)\n",
    "    while True:\n",
    "        answer += 1\n",
    "        temp = []\n",
    "        temp = binNum(answer, temp)\n",
    "        if temp.count(1) == cnt:\n",
    "            return answer"
   ]
  },
  {
   "cell_type": "code",
   "execution_count": 17,
   "metadata": {},
   "outputs": [
    {
     "name": "stdout",
     "output_type": "stream",
     "text": [
      "[0, 1, 1, 1, 0, 0, 1]\n"
     ]
    }
   ],
   "source": [
    "print(binNum(78, list=[]))\n"
   ]
  }
 ],
 "metadata": {
  "kernelspec": {
   "display_name": "Python 3",
   "language": "python",
   "name": "python3"
  },
  "language_info": {
   "codemirror_mode": {
    "name": "ipython",
    "version": 3
   },
   "file_extension": ".py",
   "mimetype": "text/x-python",
   "name": "python",
   "nbconvert_exporter": "python",
   "pygments_lexer": "ipython3",
   "version": "3.9.2"
  },
  "orig_nbformat": 4
 },
 "nbformat": 4,
 "nbformat_minor": 2
}
