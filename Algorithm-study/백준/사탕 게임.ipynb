{
 "cells": [
  {
   "cell_type": "code",
   "execution_count": 5,
   "metadata": {},
   "outputs": [],
   "source": [
    "def check(candy):\n",
    "    maxCnt = 1\n",
    "\n",
    "    for x in range(n):\n",
    "        tempCnt = 1\n",
    "        for y in range(1, n):\n",
    "            if candy[x][y] == candy[x-1][y]:\n",
    "                tempCnt += 1\n",
    "            else:\n",
    "                cnt = 1\n",
    "            maxCnt = max(tempCnt, maxCnt)\n",
    "        \n",
    "        for y in range(1, n):\n",
    "            if candy[y][x] == [y-1][x]:\n",
    "                tempCnt += 1\n",
    "            else:\n",
    "                tempCnt = 1\n",
    "            maxCnt = max(tempCnt, maxCnt)\n",
    "\n",
    "    return maxCnt\n",
    "\n",
    "n = int(input())\n",
    "candy = [[] for i in range(n)]\n",
    "cnt = 0\n",
    "\n",
    "for i in range(n):\n",
    "    candy[i] = input()\n",
    "\n",
    "for x in range(n):\n",
    "    for y in range(n):\n",
    "        if candy[x][y] != candy[x+1][y] and x+1 < n: \n",
    "            candy[x][y], candy[x+1][y] = candy[x+1][y], candy[x][y]\n",
    "            tmp = check(candy)\n",
    "            cnt = max(tmp, cnt)\n",
    "            candy[x][y], candy[x+1][y] = candy[x+1][y], candy[x][y]\n",
    "        if candy[x][y] != candy[x][y+1] and  y+1 < n:\n",
    "            candy[x][y], candy[x][y+1] = candy[x][y+1], candy[x][y]\n",
    "            tmp = check(candy)\n",
    "            cnt = max(tmp, cnt)\n",
    "            candy[x][y], candy[x][y+1] = candy[x][y+1], candy[x][y]\n",
    "\n",
    "print(cnt)"
   ]
  },
  {
   "cell_type": "code",
   "execution_count": 8,
   "metadata": {},
   "outputs": [
    {
     "data": {
      "text/plain": [
       "'P'"
      ]
     },
     "execution_count": 8,
     "metadata": {},
     "output_type": "execute_result"
    }
   ],
   "source": [
    "candy[0][2]"
   ]
  }
 ],
 "metadata": {
  "kernelspec": {
   "display_name": "Python 3",
   "language": "python",
   "name": "python3"
  },
  "language_info": {
   "codemirror_mode": {
    "name": "ipython",
    "version": 3
   },
   "file_extension": ".py",
   "mimetype": "text/x-python",
   "name": "python",
   "nbconvert_exporter": "python",
   "pygments_lexer": "ipython3",
   "version": "3.9.2"
  },
  "orig_nbformat": 4
 },
 "nbformat": 4,
 "nbformat_minor": 2
}
