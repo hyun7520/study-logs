{
 "cells": [
  {
   "cell_type": "code",
   "execution_count": 1,
   "metadata": {},
   "outputs": [],
   "source": [
    "import sys\n",
    "n, m ,b = map(int, input().split())\n",
    "\n",
    "digMap = []\n",
    "height = 0\n",
    "time = sys.maxsize\n",
    "\n",
    "for col in range(n):\n",
    "    digMap.append([int(x) for x in sys.stdin.readline().rstrip().split()])\n",
    "\n",
    "for i in range(257):\n",
    "    digCnt = 0\n",
    "    fillCnt = 0\n",
    "    for x in range(n):\n",
    "        for y in range(m):\n",
    "            if digMap[x][y] > i:\n",
    "                digCnt = digMap[x][y] -i\n",
    "            elif digMap[x][y] < i:\n",
    "                fillCnt = i - digMap[x][y]\n",
    "\n",
    "    if fillCnt > digCnt + b:\n",
    "        continue\n",
    "    \n",
    "    tmpTime = digCnt * 2 + fillCnt\n",
    "\n",
    "    if tmpTime <= time:\n",
    "        time = tmpTime\n",
    "        height = i\n",
    "\n",
    "print(time, height)"
   ]
  }
 ],
 "metadata": {
  "kernelspec": {
   "display_name": "Python 3",
   "language": "python",
   "name": "python3"
  },
  "language_info": {
   "codemirror_mode": {
    "name": "ipython",
    "version": 3
   },
   "file_extension": ".py",
   "mimetype": "text/x-python",
   "name": "python",
   "nbconvert_exporter": "python",
   "pygments_lexer": "ipython3",
   "version": "3.9.2"
  },
  "orig_nbformat": 4
 },
 "nbformat": 4,
 "nbformat_minor": 2
}
