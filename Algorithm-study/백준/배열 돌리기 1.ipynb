{
 "cells": [
  {
   "cell_type": "code",
   "execution_count": 6,
   "metadata": {},
   "outputs": [],
   "source": [
    "n, m, r = map(int, input().split())\n",
    "# 4,5\n",
    "table = []\n",
    "\n",
    "for i in range(n):\n",
    "    table.append(list(map(int, input().split())))\n",
    "\n",
    "for turns in range(r):\n",
    "    for i in range(min(n, m) // 2):\n",
    "        start = table[i][i]\n",
    "\n",
    "        # 좌\n",
    "        for x in range(i+1, n-i):\n",
    "            temp = table[x][i]\n",
    "            table[x][i] = start\n",
    "            start = temp\n",
    "        # 1, 2\n",
    "        # 하\n",
    "        for y in range(i+1, m-1):\n",
    "            temp = table[i][y]\n",
    "            table[i][y] = start\n",
    "            start = temp\n"
   ]
  },
  {
   "cell_type": "code",
   "execution_count": 7,
   "metadata": {},
   "outputs": [
    {
     "data": {
      "text/plain": [
       "[[1, 2, 3, 4], [5, 6, 7, 8], [1, 2, 3, 4], [5, 6, 7, 8]]"
      ]
     },
     "execution_count": 7,
     "metadata": {},
     "output_type": "execute_result"
    }
   ],
   "source": [
    "table"
   ]
  }
 ],
 "metadata": {
  "kernelspec": {
   "display_name": "Python 3",
   "language": "python",
   "name": "python3"
  },
  "language_info": {
   "codemirror_mode": {
    "name": "ipython",
    "version": 3
   },
   "file_extension": ".py",
   "mimetype": "text/x-python",
   "name": "python",
   "nbconvert_exporter": "python",
   "pygments_lexer": "ipython3",
   "version": "3.9.2"
  },
  "orig_nbformat": 4
 },
 "nbformat": 4,
 "nbformat_minor": 2
}
