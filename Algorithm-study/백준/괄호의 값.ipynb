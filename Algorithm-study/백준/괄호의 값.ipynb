{
 "cells": [
  {
   "cell_type": "code",
   "execution_count": null,
   "metadata": {},
   "outputs": [],
   "source": [
    "# 4개의 기호 ‘(’, ‘)’, ‘[’, ‘]’를 이용해서 만들어지는 괄호열 중에서 올바른 괄호열이란 다음과 같이 정의된다.\n",
    "\n",
    "# 한 쌍의 괄호로만 이루어진 ‘()’와 ‘[]’는 올바른 괄호열이다.\n",
    "# 만일 X가 올바른 괄호열이면 ‘(X)’이나 ‘[X]’도 모두 올바른 괄호열이 된다.\n",
    "# X와 Y 모두 올바른 괄호열이라면 이들을 결합한 XY도 올바른 괄호열이 된다.\n",
    "# 예를 들어 ‘(()[[]])’나 ‘(())[][]’ 는 올바른 괄호열이지만 ‘([)]’ 나 ‘(()()[]’ 은 \n",
    "# 모두 올바른 괄호열이 아니다. 우리는 어떤 올바른 괄호열 X에 대하여 그 괄호열의 값(괄호값)을 아래와 같이 \n",
    "# 정의하고 값(X)로 표시한다.\n",
    "\n",
    "# ‘()’ 인 괄호열의 값은 2이다.\n",
    "# ‘[]’ 인 괄호열의 값은 3이다.\n",
    "# ‘(X)’ 의 괄호값은 2×값(X) 으로 계산된다.\n",
    "# ‘[X]’ 의 괄호값은 3×값(X) 으로 계산된다.\n",
    "# 올바른 괄호열 X와 Y가 결합된 XY의 괄호값은 값(XY)= 값(X)+값(Y) 로 계산된다.\n",
    "# 예를 들어 ‘(()[[]])([])’ 의 괄호값을 구해보자. ‘()[[]]’ 의 괄호값이 2 + 3×3=11 이므로 ‘(()[[]])’의 괄호값은 2×11=22 이다. \n",
    "# 그리고 ‘([])’의 값은 2×3=6 이므로 전체 괄호열의 값은 22 + 6 = 28 이다.\n",
    "\n",
    "# 여러분이 풀어야 할 문제는 주어진 괄호열을 읽고 그 괄호값을 앞에서 정의한대로 계산하여 출력하는 것이다."
   ]
  },
  {
   "cell_type": "code",
   "execution_count": 37,
   "metadata": {},
   "outputs": [
    {
     "name": "stdout",
     "output_type": "stream",
     "text": [
      "(\n",
      "(\n",
      "[\n",
      "[\n",
      "[\n",
      "]\n",
      "(\n",
      "]\n",
      "[\n",
      "[\n",
      "(\n",
      "]\n",
      "28\n"
     ]
    }
   ],
   "source": [
    "# (()[[]])([])\n",
    "# 2 (2 + 3*3)\n",
    "# 2*2 + 2*3*3\n",
    "\n",
    "def solution(string):\n",
    "\n",
    "    check = []\n",
    "    answer = 0\n",
    "    tmp = 1\n",
    "\n",
    "    for i in range(len(string)):\n",
    "        if string[i] == '(':\n",
    "            check.append('(')\n",
    "            tmp *= 2 \n",
    "        elif string[i] == '[':\n",
    "            check.append('[')\n",
    "            tmp *= 3\n",
    "        elif string[i] == ')':\n",
    "            if not check or check[-1] == '[':\n",
    "                return 0\n",
    "            if string[i-1] == '(':\n",
    "                answer += tmp\n",
    "            tmp //= 2\n",
    "            check.pop()\n",
    "            \n",
    "        else:\n",
    "            if not check or check[-1] == '(':\n",
    "                return 0\n",
    "            if string[i-1] == '[':\n",
    "                answer += tmp\n",
    "            tmp //= 3\n",
    "            check.pop()\n",
    "    if check:\n",
    "        return 0       \n",
    "\n",
    "    return answer\n",
    "\n",
    "bracket = input()\n",
    "print(solution(bracket))"
   ]
  }
 ],
 "metadata": {
  "kernelspec": {
   "display_name": "Python 3",
   "language": "python",
   "name": "python3"
  },
  "language_info": {
   "codemirror_mode": {
    "name": "ipython",
    "version": 3
   },
   "file_extension": ".py",
   "mimetype": "text/x-python",
   "name": "python",
   "nbconvert_exporter": "python",
   "pygments_lexer": "ipython3",
   "version": "3.9.2"
  },
  "orig_nbformat": 4
 },
 "nbformat": 4,
 "nbformat_minor": 2
}
