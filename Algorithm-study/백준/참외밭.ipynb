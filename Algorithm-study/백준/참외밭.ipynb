{
 "cells": [
  {
   "cell_type": "code",
   "execution_count": 6,
   "metadata": {},
   "outputs": [
    {
     "name": "stdout",
     "output_type": "stream",
     "text": [
      "6800\n"
     ]
    }
   ],
   "source": [
    "cnt = int(input())\n",
    "\n",
    "farm = [[] for i in range(6)]\n",
    "\n",
    "for i in range(6):\n",
    "    farm[i] = list(map(int, input().split()))\n",
    "\n",
    "maxW = 0\n",
    "maxH = 0\n",
    "maxWIdx = 0\n",
    "maxHIdx = 0\n",
    "\n",
    "for idx in range(6):\n",
    "    if farm[idx][0] == 1 or farm[idx][0] == 2:\n",
    "        if farm[idx][1] > maxW:\n",
    "            maxW = farm[idx][1]\n",
    "            maxWIdx = idx\n",
    "    if farm[idx][0] == 3 or farm[idx][0] == 4:\n",
    "        if farm[idx][1] > maxH:\n",
    "            maxH = farm[idx][1]\n",
    "            maxHIdx = idx\n",
    "\n",
    "totalA = maxW * maxH\n",
    "\n",
    "minW = abs(farm[(maxHIdx - 1) % 6][1] - farm[(maxHIdx + 1) % 6][1])\n",
    "minH = abs(farm[(maxWIdx - 1) % 6][1] - farm[(maxWIdx + 1) % 6][1])\n",
    "\n",
    "answer = totalA - (minH * minW)\n",
    "print(answer*cnt)"
   ]
  },
  {
   "cell_type": "code",
   "execution_count": 2,
   "metadata": {},
   "outputs": [
    {
     "data": {
      "text/plain": [
       "[[4, 50], [2, 160], [3, 30], [1, 60], [3, 20], [1, 100]]"
      ]
     },
     "execution_count": 2,
     "metadata": {},
     "output_type": "execute_result"
    }
   ],
   "source": [
    "farm"
   ]
  },
  {
   "cell_type": "code",
   "execution_count": 5,
   "metadata": {},
   "outputs": [
    {
     "data": {
      "text/plain": [
       "5"
      ]
     },
     "execution_count": 5,
     "metadata": {},
     "output_type": "execute_result"
    }
   ],
   "source": [
    "-1 % 6"
   ]
  }
 ],
 "metadata": {
  "kernelspec": {
   "display_name": "Python 3",
   "language": "python",
   "name": "python3"
  },
  "language_info": {
   "codemirror_mode": {
    "name": "ipython",
    "version": 3
   },
   "file_extension": ".py",
   "mimetype": "text/x-python",
   "name": "python",
   "nbconvert_exporter": "python",
   "pygments_lexer": "ipython3",
   "version": "3.9.2"
  },
  "orig_nbformat": 4
 },
 "nbformat": 4,
 "nbformat_minor": 2
}
