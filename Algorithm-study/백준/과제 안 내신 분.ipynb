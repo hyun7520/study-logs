{
 "cells": [
  {
   "cell_type": "code",
   "execution_count": 24,
   "metadata": {},
   "outputs": [
    {
     "ename": "IndexError",
     "evalue": "pop index out of range",
     "output_type": "error",
     "traceback": [
      "\u001b[1;31m---------------------------------------------------------------------------\u001b[0m",
      "\u001b[1;31mIndexError\u001b[0m                                Traceback (most recent call last)",
      "\u001b[1;32mc:\\Users\\sangh\\OneDrive\\바탕 화면\\WEB-Demo\\Algorithm-study\\백준\\과제 안 내신 분.ipynb Cell 1\u001b[0m in \u001b[0;36m<cell line: 3>\u001b[1;34m()\u001b[0m\n\u001b[0;32m      <a href='vscode-notebook-cell:/c%3A/Users/sangh/OneDrive/%EB%B0%94%ED%83%95%20%ED%99%94%EB%A9%B4/WEB-Demo/Algorithm-study/%EB%B0%B1%EC%A4%80/%EA%B3%BC%EC%A0%9C%20%EC%95%88%20%EB%82%B4%EC%8B%A0%20%EB%B6%84.ipynb#W0sZmlsZQ%3D%3D?line=2'>3</a>\u001b[0m \u001b[39mfor\u001b[39;00m i \u001b[39min\u001b[39;00m \u001b[39mrange\u001b[39m(\u001b[39m28\u001b[39m):\n\u001b[0;32m      <a href='vscode-notebook-cell:/c%3A/Users/sangh/OneDrive/%EB%B0%94%ED%83%95%20%ED%99%94%EB%A9%B4/WEB-Demo/Algorithm-study/%EB%B0%B1%EC%A4%80/%EA%B3%BC%EC%A0%9C%20%EC%95%88%20%EB%82%B4%EC%8B%A0%20%EB%B6%84.ipynb#W0sZmlsZQ%3D%3D?line=3'>4</a>\u001b[0m     n \u001b[39m=\u001b[39m \u001b[39mint\u001b[39m(\u001b[39minput\u001b[39m())\n\u001b[1;32m----> <a href='vscode-notebook-cell:/c%3A/Users/sangh/OneDrive/%EB%B0%94%ED%83%95%20%ED%99%94%EB%A9%B4/WEB-Demo/Algorithm-study/%EB%B0%B1%EC%A4%80/%EA%B3%BC%EC%A0%9C%20%EC%95%88%20%EB%82%B4%EC%8B%A0%20%EB%B6%84.ipynb#W0sZmlsZQ%3D%3D?line=4'>5</a>\u001b[0m     check\u001b[39m.\u001b[39;49mpop(n)\n\u001b[0;32m      <a href='vscode-notebook-cell:/c%3A/Users/sangh/OneDrive/%EB%B0%94%ED%83%95%20%ED%99%94%EB%A9%B4/WEB-Demo/Algorithm-study/%EB%B0%B1%EC%A4%80/%EA%B3%BC%EC%A0%9C%20%EC%95%88%20%EB%82%B4%EC%8B%A0%20%EB%B6%84.ipynb#W0sZmlsZQ%3D%3D?line=6'>7</a>\u001b[0m check\u001b[39m.\u001b[39msort()\n\u001b[0;32m      <a href='vscode-notebook-cell:/c%3A/Users/sangh/OneDrive/%EB%B0%94%ED%83%95%20%ED%99%94%EB%A9%B4/WEB-Demo/Algorithm-study/%EB%B0%B1%EC%A4%80/%EA%B3%BC%EC%A0%9C%20%EC%95%88%20%EB%82%B4%EC%8B%A0%20%EB%B6%84.ipynb#W0sZmlsZQ%3D%3D?line=8'>9</a>\u001b[0m \u001b[39mfor\u001b[39;00m num \u001b[39min\u001b[39;00m check[\u001b[39m1\u001b[39m:]:\n",
      "\u001b[1;31mIndexError\u001b[0m: pop index out of range"
     ]
    }
   ],
   "source": [
    "check = [i for i in range(1, 31)]\n",
    "for i in range(28):\n",
    "    n = int(input())\n",
    "    check.remove(n)\n",
    "\n",
    "print(min(check))\n",
    "print(max(check))"
   ]
  }
 ],
 "metadata": {
  "kernelspec": {
   "display_name": "Python 3",
   "language": "python",
   "name": "python3"
  },
  "language_info": {
   "codemirror_mode": {
    "name": "ipython",
    "version": 3
   },
   "file_extension": ".py",
   "mimetype": "text/x-python",
   "name": "python",
   "nbconvert_exporter": "python",
   "pygments_lexer": "ipython3",
   "version": "3.9.2"
  },
  "orig_nbformat": 4
 },
 "nbformat": 4,
 "nbformat_minor": 2
}
