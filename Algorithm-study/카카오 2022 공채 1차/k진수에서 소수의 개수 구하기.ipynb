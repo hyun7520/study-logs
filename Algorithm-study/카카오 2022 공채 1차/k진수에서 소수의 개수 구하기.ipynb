{
 "cells": [
  {
   "cell_type": "code",
   "execution_count": null,
   "metadata": {},
   "outputs": [],
   "source": [
    "import string\n",
    "\n",
    "def convert(n, k):\n",
    "    if k == 8:\n",
    "        n = oct(n)\n",
    "    elif k == 16:\n",
    "        n = hex(n)\n",
    "    else:\n",
    "        while q != 0:\n",
    "            tmp = string.digits + string.ascii_lowercase\n",
    "            q, r = divmod(n, k)\n",
    "            if q == 0:\n",
    "                n = tmp[r]\n",
    "            else:\n",
    "                \n",
    "    return n\n",
    "\n",
    "def check(n):\n",
    "    solution = 0\n",
    "    \n",
    "    return solution\n",
    "\n",
    "N, K = int(input().split())\n",
    "con_N = convert(N, K)\n",
    "check(con_N)"
   ]
  }
 ],
 "metadata": {
  "kernelspec": {
   "display_name": "Python 3.9.2 64-bit",
   "language": "python",
   "name": "python3"
  },
  "language_info": {
   "name": "python",
   "version": "3.9.2 (tags/v3.9.2:1a79785, Feb 19 2021, 13:44:55) [MSC v.1928 64 bit (AMD64)]"
  },
  "orig_nbformat": 4,
  "vscode": {
   "interpreter": {
    "hash": "9b3d85959e6c4b3d134916c41e259dea5bccfec32db02b044911dc7b04f0df25"
   }
  }
 },
 "nbformat": 4,
 "nbformat_minor": 2
}
