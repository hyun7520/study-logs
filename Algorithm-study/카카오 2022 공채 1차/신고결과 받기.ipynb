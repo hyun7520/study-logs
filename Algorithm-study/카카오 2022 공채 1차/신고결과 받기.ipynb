{
 "cells": [
  {
   "cell_type": "code",
   "execution_count": null,
   "metadata": {},
   "outputs": [],
   "source": [
    "def solution(id_list, report, k):\n",
    "    answer = []\n",
    "    report_cnt = {}\n",
    "    reported_by = {}\n",
    "    mail = {}\n",
    "    for id in id_list:\n",
    "        report_cnt[id] = 0\n",
    "        reported_by[id] = []\n",
    "        mail[id] = 0\n",
    "    for list in report:\n",
    "        name, target = list.split()\n",
    "        if name not in reported_by[target]:\n",
    "            reported_by[target].append(name)\n",
    "            report_cnt[name] += 1\n",
    "    for id in id_list:\n",
    "        if report_cnt[id] >= k:\n",
    "            for name in reported_by[id]:\n",
    "                mail[name] += 1\n",
    "    for name in id_list:\n",
    "        answer.append(mail[name])\n",
    "    return answer\n",
    "\n"
   ]
  }
 ],
 "metadata": {
  "kernelspec": {
   "display_name": "Python 3.9.2 64-bit",
   "language": "python",
   "name": "python3"
  },
  "language_info": {
   "name": "python",
   "version": "3.9.2"
  },
  "orig_nbformat": 4,
  "vscode": {
   "interpreter": {
    "hash": "9b3d85959e6c4b3d134916c41e259dea5bccfec32db02b044911dc7b04f0df25"
   }
  }
 },
 "nbformat": 4,
 "nbformat_minor": 2
}
