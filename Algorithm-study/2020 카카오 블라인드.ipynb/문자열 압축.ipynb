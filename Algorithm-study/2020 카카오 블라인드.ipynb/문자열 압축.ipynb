{
 "cells": [
  {
   "cell_type": "code",
   "execution_count": 9,
   "metadata": {},
   "outputs": [
    {
     "name": "stdout",
     "output_type": "stream",
     "text": [
      "0번a\n",
      "1번 2 a\n",
      "0번b\n",
      "1번2a 2 b\n",
      "2번2a2ba a\n",
      "0번c\n",
      "0번c\n",
      "2번aa aa\n",
      "2번aabb bb\n",
      "2번aabbac ac\n",
      "2번aab aab\n",
      "2번aabbac bac\n",
      "2번aabb aabb\n",
      "[7, 8, 8, 8]\n"
     ]
    }
   ],
   "source": [
    "def solution(s):\n",
    "    answer = 0\n",
    "    result = []\n",
    "    length = len(s)\n",
    "    if length == 1:\n",
    "        return 1\n",
    "\n",
    "    for i in range(1, (length//2)+1):\n",
    "        cut = ''\n",
    "        cnt = 1\n",
    "        temp = s[:i]\n",
    "\n",
    "        for j in range(i, length, i):\n",
    "            if temp == s[j:i+j]:\n",
    "                cnt += 1            \n",
    "            else:\n",
    "                if cnt != 1:\n",
    "                    cut = cut +str(cnt)+ temp\n",
    "                else:\n",
    "                    cut = cut + temp                   \n",
    "                temp = s[j:j+i]\n",
    "                cnt = 1\n",
    "        if cnt != 1:\n",
    "            cut = cut + str(cnt) + temp\n",
    "        else:\n",
    "            cut = cut + temp\n",
    "        result.append(len(cut))\n",
    "    print(result)\n",
    "\n",
    "    answer = min(result)\n",
    "\n",
    "    return answer\n",
    "\n",
    "s = \"aabbaccc\"\n",
    "ans = solution(s)\n"
   ]
  }
 ],
 "metadata": {
  "kernelspec": {
   "display_name": "Python 3.9.2 64-bit",
   "language": "python",
   "name": "python3"
  },
  "language_info": {
   "codemirror_mode": {
    "name": "ipython",
    "version": 3
   },
   "file_extension": ".py",
   "mimetype": "text/x-python",
   "name": "python",
   "nbconvert_exporter": "python",
   "pygments_lexer": "ipython3",
   "version": "3.9.2"
  },
  "orig_nbformat": 4,
  "vscode": {
   "interpreter": {
    "hash": "9b3d85959e6c4b3d134916c41e259dea5bccfec32db02b044911dc7b04f0df25"
   }
  }
 },
 "nbformat": 4,
 "nbformat_minor": 2
}
