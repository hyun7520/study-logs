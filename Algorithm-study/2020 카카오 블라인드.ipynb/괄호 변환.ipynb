{
 "cells": [
  {
   "cell_type": "code",
   "execution_count": null,
   "metadata": {},
   "outputs": [],
   "source": [
    "def divide(line):\n",
    "    open = 0\n",
    "    close = 0\n",
    "\n",
    "    for i in range(len(line)):\n",
    "        if line[i] == '(':\n",
    "            open += 1\n",
    "        else: \n",
    "            close +=1\n",
    "        if open == close:\n",
    "            return line[:i+1], line[i+1:]\n",
    "\n",
    "def check(u):\n",
    "    stack = []\n",
    "\n",
    "    for colon in u:\n",
    "        if colon == '(':\n",
    "            stack.append('(')\n",
    "        else:\n",
    "            if not stack:\n",
    "                return False\n",
    "            stack.pop()\n",
    "    return True\n",
    "\n",
    "def solution(p):\n",
    "    answer = ''\n",
    "\n",
    "    if not p:\n",
    "        return \"\"\n",
    "    u, v = divide(p)\n",
    "\n",
    "    if check(u):\n",
    "        return u + solution(v)\n",
    "    else:\n",
    "        answer = '('\n",
    "        answer += solution(v)\n",
    "        answer += ')'\n",
    "\n",
    "        for p in u[1:len(u) - 1]:\n",
    "            if p == '(':\n",
    "                answer += ')'\n",
    "            else:\n",
    "                answer += '('\n",
    "\n",
    "    return answer"
   ]
  },
  {
   "cell_type": "code",
   "execution_count": null,
   "metadata": {},
   "outputs": [],
   "source": []
  }
 ],
 "metadata": {
  "language_info": {
   "name": "python"
  },
  "orig_nbformat": 4
 },
 "nbformat": 4,
 "nbformat_minor": 2
}
